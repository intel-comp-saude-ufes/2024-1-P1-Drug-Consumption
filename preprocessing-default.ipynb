{
 "cells": [
  {
   "cell_type": "markdown",
   "id": "237f745b",
   "metadata": {
    "papermill": {
     "duration": 0.005928,
     "end_time": "2024-04-03T08:45:24.154801",
     "exception": false,
     "start_time": "2024-04-03T08:45:24.148873",
     "status": "completed"
    },
    "tags": []
   },
   "source": [
    "Since there has been some confusion about the values, I have created this notebook in which I transform the values. I hope it is helpful. "
   ]
  },
  {
   "cell_type": "code",
   "execution_count": 3,
   "id": "7a1fed84",
   "metadata": {
    "_cell_guid": "b1076dfc-b9ad-4769-8c92-a6c4dae69d19",
    "_uuid": "8f2839f25d086af736a60e9eeb907d3b93b6e0e5",
    "execution": {
     "iopub.execute_input": "2024-04-03T08:45:24.168864Z",
     "iopub.status.busy": "2024-04-03T08:45:24.167890Z",
     "iopub.status.idle": "2024-04-03T08:45:25.128472Z",
     "shell.execute_reply": "2024-04-03T08:45:25.127292Z"
    },
    "papermill": {
     "duration": 0.97116,
     "end_time": "2024-04-03T08:45:25.131961",
     "exception": false,
     "start_time": "2024-04-03T08:45:24.160801",
     "status": "completed"
    },
    "tags": []
   },
   "outputs": [],
   "source": [
    "import pandas as pd"
   ]
  },
  {
   "cell_type": "code",
   "execution_count": 4,
   "id": "29902f30",
   "metadata": {
    "execution": {
     "iopub.execute_input": "2024-04-03T08:45:25.145117Z",
     "iopub.status.busy": "2024-04-03T08:45:25.144578Z",
     "iopub.status.idle": "2024-04-03T08:45:25.222323Z",
     "shell.execute_reply": "2024-04-03T08:45:25.221194Z"
    },
    "papermill": {
     "duration": 0.087043,
     "end_time": "2024-04-03T08:45:25.224834",
     "exception": false,
     "start_time": "2024-04-03T08:45:25.137791",
     "status": "completed"
    },
    "tags": []
   },
   "outputs": [
    {
     "data": {
      "text/html": [
       "<div>\n",
       "<style scoped>\n",
       "    .dataframe tbody tr th:only-of-type {\n",
       "        vertical-align: middle;\n",
       "    }\n",
       "\n",
       "    .dataframe tbody tr th {\n",
       "        vertical-align: top;\n",
       "    }\n",
       "\n",
       "    .dataframe thead th {\n",
       "        text-align: right;\n",
       "    }\n",
       "</style>\n",
       "<table border=\"1\" class=\"dataframe\">\n",
       "  <thead>\n",
       "    <tr style=\"text-align: right;\">\n",
       "      <th></th>\n",
       "      <th>ID</th>\n",
       "      <th>Age</th>\n",
       "      <th>Gender</th>\n",
       "      <th>Education</th>\n",
       "      <th>Country</th>\n",
       "      <th>Ethnicity</th>\n",
       "      <th>Nscore</th>\n",
       "      <th>Escore</th>\n",
       "      <th>Oscore</th>\n",
       "      <th>Ascore</th>\n",
       "      <th>...</th>\n",
       "      <th>Ecstasy</th>\n",
       "      <th>Heroin</th>\n",
       "      <th>Ketamine</th>\n",
       "      <th>Legalh</th>\n",
       "      <th>LSD</th>\n",
       "      <th>Meth</th>\n",
       "      <th>Mushrooms</th>\n",
       "      <th>Nicotine</th>\n",
       "      <th>Semer</th>\n",
       "      <th>VSA</th>\n",
       "    </tr>\n",
       "  </thead>\n",
       "  <tbody>\n",
       "    <tr>\n",
       "      <th>0</th>\n",
       "      <td>1</td>\n",
       "      <td>0.49788</td>\n",
       "      <td>0.48246</td>\n",
       "      <td>-0.05921</td>\n",
       "      <td>0.96082</td>\n",
       "      <td>0.12600</td>\n",
       "      <td>0.31287</td>\n",
       "      <td>-0.57545</td>\n",
       "      <td>-0.58331</td>\n",
       "      <td>-0.91699</td>\n",
       "      <td>...</td>\n",
       "      <td>CL0</td>\n",
       "      <td>CL0</td>\n",
       "      <td>CL0</td>\n",
       "      <td>CL0</td>\n",
       "      <td>CL0</td>\n",
       "      <td>CL0</td>\n",
       "      <td>CL0</td>\n",
       "      <td>CL2</td>\n",
       "      <td>CL0</td>\n",
       "      <td>CL0</td>\n",
       "    </tr>\n",
       "    <tr>\n",
       "      <th>1</th>\n",
       "      <td>2</td>\n",
       "      <td>-0.07854</td>\n",
       "      <td>-0.48246</td>\n",
       "      <td>1.98437</td>\n",
       "      <td>0.96082</td>\n",
       "      <td>-0.31685</td>\n",
       "      <td>-0.67825</td>\n",
       "      <td>1.93886</td>\n",
       "      <td>1.43533</td>\n",
       "      <td>0.76096</td>\n",
       "      <td>...</td>\n",
       "      <td>CL4</td>\n",
       "      <td>CL0</td>\n",
       "      <td>CL2</td>\n",
       "      <td>CL0</td>\n",
       "      <td>CL2</td>\n",
       "      <td>CL3</td>\n",
       "      <td>CL0</td>\n",
       "      <td>CL4</td>\n",
       "      <td>CL0</td>\n",
       "      <td>CL0</td>\n",
       "    </tr>\n",
       "    <tr>\n",
       "      <th>2</th>\n",
       "      <td>3</td>\n",
       "      <td>0.49788</td>\n",
       "      <td>-0.48246</td>\n",
       "      <td>-0.05921</td>\n",
       "      <td>0.96082</td>\n",
       "      <td>-0.31685</td>\n",
       "      <td>-0.46725</td>\n",
       "      <td>0.80523</td>\n",
       "      <td>-0.84732</td>\n",
       "      <td>-1.62090</td>\n",
       "      <td>...</td>\n",
       "      <td>CL0</td>\n",
       "      <td>CL0</td>\n",
       "      <td>CL0</td>\n",
       "      <td>CL0</td>\n",
       "      <td>CL0</td>\n",
       "      <td>CL0</td>\n",
       "      <td>CL1</td>\n",
       "      <td>CL0</td>\n",
       "      <td>CL0</td>\n",
       "      <td>CL0</td>\n",
       "    </tr>\n",
       "    <tr>\n",
       "      <th>3</th>\n",
       "      <td>4</td>\n",
       "      <td>-0.95197</td>\n",
       "      <td>0.48246</td>\n",
       "      <td>1.16365</td>\n",
       "      <td>0.96082</td>\n",
       "      <td>-0.31685</td>\n",
       "      <td>-0.14882</td>\n",
       "      <td>-0.80615</td>\n",
       "      <td>-0.01928</td>\n",
       "      <td>0.59042</td>\n",
       "      <td>...</td>\n",
       "      <td>CL0</td>\n",
       "      <td>CL0</td>\n",
       "      <td>CL2</td>\n",
       "      <td>CL0</td>\n",
       "      <td>CL0</td>\n",
       "      <td>CL0</td>\n",
       "      <td>CL0</td>\n",
       "      <td>CL2</td>\n",
       "      <td>CL0</td>\n",
       "      <td>CL0</td>\n",
       "    </tr>\n",
       "    <tr>\n",
       "      <th>4</th>\n",
       "      <td>5</td>\n",
       "      <td>0.49788</td>\n",
       "      <td>0.48246</td>\n",
       "      <td>1.98437</td>\n",
       "      <td>0.96082</td>\n",
       "      <td>-0.31685</td>\n",
       "      <td>0.73545</td>\n",
       "      <td>-1.63340</td>\n",
       "      <td>-0.45174</td>\n",
       "      <td>-0.30172</td>\n",
       "      <td>...</td>\n",
       "      <td>CL1</td>\n",
       "      <td>CL0</td>\n",
       "      <td>CL0</td>\n",
       "      <td>CL1</td>\n",
       "      <td>CL0</td>\n",
       "      <td>CL0</td>\n",
       "      <td>CL2</td>\n",
       "      <td>CL2</td>\n",
       "      <td>CL0</td>\n",
       "      <td>CL0</td>\n",
       "    </tr>\n",
       "  </tbody>\n",
       "</table>\n",
       "<p>5 rows × 32 columns</p>\n",
       "</div>"
      ],
      "text/plain": [
       "   ID      Age   Gender  Education  Country  Ethnicity   Nscore   Escore  \\\n",
       "0   1  0.49788  0.48246   -0.05921  0.96082    0.12600  0.31287 -0.57545   \n",
       "1   2 -0.07854 -0.48246    1.98437  0.96082   -0.31685 -0.67825  1.93886   \n",
       "2   3  0.49788 -0.48246   -0.05921  0.96082   -0.31685 -0.46725  0.80523   \n",
       "3   4 -0.95197  0.48246    1.16365  0.96082   -0.31685 -0.14882 -0.80615   \n",
       "4   5  0.49788  0.48246    1.98437  0.96082   -0.31685  0.73545 -1.63340   \n",
       "\n",
       "    Oscore   Ascore  ...  Ecstasy  Heroin  Ketamine Legalh  LSD Meth  \\\n",
       "0 -0.58331 -0.91699  ...      CL0     CL0       CL0    CL0  CL0  CL0   \n",
       "1  1.43533  0.76096  ...      CL4     CL0       CL2    CL0  CL2  CL3   \n",
       "2 -0.84732 -1.62090  ...      CL0     CL0       CL0    CL0  CL0  CL0   \n",
       "3 -0.01928  0.59042  ...      CL0     CL0       CL2    CL0  CL0  CL0   \n",
       "4 -0.45174 -0.30172  ...      CL1     CL0       CL0    CL1  CL0  CL0   \n",
       "\n",
       "  Mushrooms Nicotine Semer  VSA  \n",
       "0       CL0      CL2   CL0  CL0  \n",
       "1       CL0      CL4   CL0  CL0  \n",
       "2       CL1      CL0   CL0  CL0  \n",
       "3       CL0      CL2   CL0  CL0  \n",
       "4       CL2      CL2   CL0  CL0  \n",
       "\n",
       "[5 rows x 32 columns]"
      ]
     },
     "execution_count": 4,
     "metadata": {},
     "output_type": "execute_result"
    }
   ],
   "source": [
    "data = pd.read_csv('data/drug_consumption.csv')\n",
    "data.head()"
   ]
  },
  {
   "cell_type": "markdown",
   "id": "60fec49e",
   "metadata": {
    "papermill": {
     "duration": 0.005518,
     "end_time": "2024-04-03T08:45:25.236361",
     "exception": false,
     "start_time": "2024-04-03T08:45:25.230843",
     "status": "completed"
    },
    "tags": []
   },
   "source": [
    "# Age"
   ]
  },
  {
   "cell_type": "code",
   "execution_count": 5,
   "id": "43231919",
   "metadata": {
    "execution": {
     "iopub.execute_input": "2024-04-03T08:45:25.249782Z",
     "iopub.status.busy": "2024-04-03T08:45:25.249381Z",
     "iopub.status.idle": "2024-04-03T08:45:25.258943Z",
     "shell.execute_reply": "2024-04-03T08:45:25.258161Z"
    },
    "papermill": {
     "duration": 0.019466,
     "end_time": "2024-04-03T08:45:25.261541",
     "exception": false,
     "start_time": "2024-04-03T08:45:25.242075",
     "status": "completed"
    },
    "tags": []
   },
   "outputs": [],
   "source": [
    "age_col = {\n",
    "          -0.95197: '18-24',\n",
    "          -0.07854: '25 - 34',\n",
    "          0.49788: '35 - 44',\n",
    "          1.09449: '45 - 54',\n",
    "          1.82213: '55 - 64',\n",
    "          2.59171: '65+'\n",
    "          }\n",
    "data['Age'] = data['Age'].replace(age_col)"
   ]
  },
  {
   "cell_type": "markdown",
   "id": "1718a2a4",
   "metadata": {
    "papermill": {
     "duration": 0.005575,
     "end_time": "2024-04-03T08:45:25.272976",
     "exception": false,
     "start_time": "2024-04-03T08:45:25.267401",
     "status": "completed"
    },
    "tags": []
   },
   "source": [
    "# Gender"
   ]
  },
  {
   "cell_type": "code",
   "execution_count": 6,
   "id": "283afa01",
   "metadata": {
    "execution": {
     "iopub.execute_input": "2024-04-03T08:45:25.286344Z",
     "iopub.status.busy": "2024-04-03T08:45:25.285676Z",
     "iopub.status.idle": "2024-04-03T08:45:25.292109Z",
     "shell.execute_reply": "2024-04-03T08:45:25.291332Z"
    },
    "papermill": {
     "duration": 0.015729,
     "end_time": "2024-04-03T08:45:25.294370",
     "exception": false,
     "start_time": "2024-04-03T08:45:25.278641",
     "status": "completed"
    },
    "tags": []
   },
   "outputs": [],
   "source": [
    "gender_col = {\n",
    "            0.48246: 'Female',\n",
    "            -0.48246: 'Male'\n",
    "            }\n",
    "data['Gender'] = data['Gender'].replace(gender_col)"
   ]
  },
  {
   "cell_type": "markdown",
   "id": "e92c83ab",
   "metadata": {
    "papermill": {
     "duration": 0.005484,
     "end_time": "2024-04-03T08:45:25.305867",
     "exception": false,
     "start_time": "2024-04-03T08:45:25.300383",
     "status": "completed"
    },
    "tags": []
   },
   "source": [
    "# Education"
   ]
  },
  {
   "cell_type": "code",
   "execution_count": 7,
   "id": "dce7926f",
   "metadata": {
    "execution": {
     "iopub.execute_input": "2024-04-03T08:45:25.319767Z",
     "iopub.status.busy": "2024-04-03T08:45:25.319013Z",
     "iopub.status.idle": "2024-04-03T08:45:25.327428Z",
     "shell.execute_reply": "2024-04-03T08:45:25.326552Z"
    },
    "papermill": {
     "duration": 0.018048,
     "end_time": "2024-04-03T08:45:25.329763",
     "exception": false,
     "start_time": "2024-04-03T08:45:25.311715",
     "status": "completed"
    },
    "tags": []
   },
   "outputs": [],
   "source": [
    "education_col = {\n",
    "            -2.43591: 'Left School Before 16 years',\n",
    "            -1.73790: 'Left School at 16 years',\n",
    "            -1.43719: 'Left School at 17 years',\n",
    "            -1.22751: 'Left School at 18 years',\n",
    "            -0.61113: 'Some College,No Certificate Or Degree',\n",
    "            -0.05921: 'Professional Certificate/ Diploma',\n",
    "            0.45468: 'University Degree',\n",
    "            1.16365: 'Masters Degree',\n",
    "            1.98437: 'Doctorate Degree',\n",
    "            }\n",
    "data['Education'] = data['Education'].replace(education_col)"
   ]
  },
  {
   "cell_type": "markdown",
   "id": "60e66c8e",
   "metadata": {
    "papermill": {
     "duration": 0.005681,
     "end_time": "2024-04-03T08:45:25.341278",
     "exception": false,
     "start_time": "2024-04-03T08:45:25.335597",
     "status": "completed"
    },
    "tags": []
   },
   "source": [
    "# Country"
   ]
  },
  {
   "cell_type": "code",
   "execution_count": 8,
   "id": "ebbb6ab0",
   "metadata": {
    "execution": {
     "iopub.execute_input": "2024-04-03T08:45:25.354940Z",
     "iopub.status.busy": "2024-04-03T08:45:25.354217Z",
     "iopub.status.idle": "2024-04-03T08:45:25.361756Z",
     "shell.execute_reply": "2024-04-03T08:45:25.360972Z"
    },
    "papermill": {
     "duration": 0.017058,
     "end_time": "2024-04-03T08:45:25.364043",
     "exception": false,
     "start_time": "2024-04-03T08:45:25.346985",
     "status": "completed"
    },
    "tags": []
   },
   "outputs": [],
   "source": [
    "country_col = {\n",
    "            -0.09765: 'Australia',\n",
    "            0.24923: 'Canada',\n",
    "            -0.46841: 'New Zealand',\n",
    "            -0.28519: 'Other',\n",
    "            0.21128: 'Republic of Ireland',\n",
    "            0.96082: 'UK',\n",
    "            -0.57009: 'USA'\n",
    "            }\n",
    "data['Country'] = data['Country'].replace(country_col)"
   ]
  },
  {
   "cell_type": "markdown",
   "id": "07225184",
   "metadata": {
    "papermill": {
     "duration": 0.00558,
     "end_time": "2024-04-03T08:45:25.375830",
     "exception": false,
     "start_time": "2024-04-03T08:45:25.370250",
     "status": "completed"
    },
    "tags": []
   },
   "source": [
    "# Ethnicity"
   ]
  },
  {
   "cell_type": "code",
   "execution_count": 9,
   "id": "34a9d5ab",
   "metadata": {
    "execution": {
     "iopub.execute_input": "2024-04-03T08:45:25.389114Z",
     "iopub.status.busy": "2024-04-03T08:45:25.388700Z",
     "iopub.status.idle": "2024-04-03T08:45:25.396720Z",
     "shell.execute_reply": "2024-04-03T08:45:25.395842Z"
    },
    "papermill": {
     "duration": 0.017295,
     "end_time": "2024-04-03T08:45:25.398931",
     "exception": false,
     "start_time": "2024-04-03T08:45:25.381636",
     "status": "completed"
    },
    "tags": []
   },
   "outputs": [],
   "source": [
    "ethnicity_col = {\n",
    "            -0.50212: 'Asian',\n",
    "            -1.10702: 'Black',\n",
    "            1.90725: 'Mixed-Black/Asian',\n",
    "            0.12600: 'Mixed-White/Asian',\n",
    "            -0.22166: 'Mixed-White/Black',\n",
    "            0.11440: 'Other',\n",
    "            -0.31685: 'White'\n",
    "            }\n",
    "data['Ethnicity'] = data['Ethnicity'].replace(ethnicity_col)"
   ]
  },
  {
   "cell_type": "markdown",
   "id": "554eaf81",
   "metadata": {
    "papermill": {
     "duration": 0.005526,
     "end_time": "2024-04-03T08:45:25.410410",
     "exception": false,
     "start_time": "2024-04-03T08:45:25.404884",
     "status": "completed"
    },
    "tags": []
   },
   "source": [
    "# Usage"
   ]
  },
  {
   "cell_type": "code",
   "execution_count": 10,
   "id": "c2e48463",
   "metadata": {
    "execution": {
     "iopub.execute_input": "2024-04-03T08:45:25.423997Z",
     "iopub.status.busy": "2024-04-03T08:45:25.423324Z",
     "iopub.status.idle": "2024-04-03T08:45:25.477648Z",
     "shell.execute_reply": "2024-04-03T08:45:25.476416Z"
    },
    "papermill": {
     "duration": 0.064324,
     "end_time": "2024-04-03T08:45:25.480465",
     "exception": false,
     "start_time": "2024-04-03T08:45:25.416141",
     "status": "completed"
    },
    "tags": []
   },
   "outputs": [],
   "source": [
    "usage_col = {\n",
    "    'CL0': 'Never Used',\n",
    "    'CL1': 'Used over a Decade Ago',\n",
    "    'CL2': 'Used in Last Decade',\n",
    "    'CL3': 'Used in Last Year',\n",
    "    'CL4': 'Used in Last Month',\n",
    "    'CL5': 'Used in Last Week',\n",
    "    'CL6': 'Used in Last Day',\n",
    "    }\n",
    "data['Alcohol'] = data['Alcohol'].replace(usage_col)\n",
    "data['Amphet'] = data['Amphet'].replace(usage_col)\n",
    "data['Amyl'] = data['Amyl'].replace(usage_col)\n",
    "data['Benzos'] = data['Benzos'].replace(usage_col)\n",
    "data['Caff'] = data['Caff'].replace(usage_col)\n",
    "data['Cannabis'] = data['Cannabis'].replace(usage_col)\n",
    "data['Choc'] = data['Choc'].replace(usage_col)\n",
    "data['Coke'] = data['Coke'].replace(usage_col)\n",
    "data['Crack'] = data['Crack'].replace(usage_col)\n",
    "data['Ecstasy'] = data['Ecstasy'].replace(usage_col)\n",
    "data['Heroin'] = data['Heroin'].replace(usage_col)\n",
    "data['Ketamine'] = data['Ketamine'].replace(usage_col)\n",
    "data['Legalh'] = data['Legalh'].replace(usage_col)\n",
    "data['LSD'] = data['LSD'].replace(usage_col)\n",
    "data['Meth'] = data['Meth'].replace(usage_col)\n",
    "data['Mushrooms'] = data['Mushrooms'].replace(usage_col)\n",
    "data['Nicotine'] = data['Nicotine'].replace(usage_col)\n",
    "data['Semer'] = data['Semer'].replace(usage_col)\n",
    "data['VSA'] = data['VSA'].replace(usage_col)"
   ]
  },
  {
   "cell_type": "code",
   "execution_count": 11,
   "id": "8ab46184",
   "metadata": {
    "execution": {
     "iopub.execute_input": "2024-04-03T08:45:25.494884Z",
     "iopub.status.busy": "2024-04-03T08:45:25.494474Z",
     "iopub.status.idle": "2024-04-03T08:45:25.523428Z",
     "shell.execute_reply": "2024-04-03T08:45:25.522278Z"
    },
    "papermill": {
     "duration": 0.039508,
     "end_time": "2024-04-03T08:45:25.525842",
     "exception": false,
     "start_time": "2024-04-03T08:45:25.486334",
     "status": "completed"
    },
    "tags": []
   },
   "outputs": [
    {
     "data": {
      "text/html": [
       "<div>\n",
       "<style scoped>\n",
       "    .dataframe tbody tr th:only-of-type {\n",
       "        vertical-align: middle;\n",
       "    }\n",
       "\n",
       "    .dataframe tbody tr th {\n",
       "        vertical-align: top;\n",
       "    }\n",
       "\n",
       "    .dataframe thead th {\n",
       "        text-align: right;\n",
       "    }\n",
       "</style>\n",
       "<table border=\"1\" class=\"dataframe\">\n",
       "  <thead>\n",
       "    <tr style=\"text-align: right;\">\n",
       "      <th></th>\n",
       "      <th>ID</th>\n",
       "      <th>Age</th>\n",
       "      <th>Gender</th>\n",
       "      <th>Education</th>\n",
       "      <th>Country</th>\n",
       "      <th>Ethnicity</th>\n",
       "      <th>Nscore</th>\n",
       "      <th>Escore</th>\n",
       "      <th>Oscore</th>\n",
       "      <th>Ascore</th>\n",
       "      <th>...</th>\n",
       "      <th>Ecstasy</th>\n",
       "      <th>Heroin</th>\n",
       "      <th>Ketamine</th>\n",
       "      <th>Legalh</th>\n",
       "      <th>LSD</th>\n",
       "      <th>Meth</th>\n",
       "      <th>Mushrooms</th>\n",
       "      <th>Nicotine</th>\n",
       "      <th>Semer</th>\n",
       "      <th>VSA</th>\n",
       "    </tr>\n",
       "  </thead>\n",
       "  <tbody>\n",
       "    <tr>\n",
       "      <th>0</th>\n",
       "      <td>1</td>\n",
       "      <td>35 - 44</td>\n",
       "      <td>Female</td>\n",
       "      <td>Professional Certificate/ Diploma</td>\n",
       "      <td>UK</td>\n",
       "      <td>Mixed-White/Asian</td>\n",
       "      <td>0.31287</td>\n",
       "      <td>-0.57545</td>\n",
       "      <td>-0.58331</td>\n",
       "      <td>-0.91699</td>\n",
       "      <td>...</td>\n",
       "      <td>Never Used</td>\n",
       "      <td>Never Used</td>\n",
       "      <td>Never Used</td>\n",
       "      <td>Never Used</td>\n",
       "      <td>Never Used</td>\n",
       "      <td>Never Used</td>\n",
       "      <td>Never Used</td>\n",
       "      <td>Used in Last Decade</td>\n",
       "      <td>Never Used</td>\n",
       "      <td>Never Used</td>\n",
       "    </tr>\n",
       "    <tr>\n",
       "      <th>1</th>\n",
       "      <td>2</td>\n",
       "      <td>25 - 34</td>\n",
       "      <td>Male</td>\n",
       "      <td>Doctorate Degree</td>\n",
       "      <td>UK</td>\n",
       "      <td>White</td>\n",
       "      <td>-0.67825</td>\n",
       "      <td>1.93886</td>\n",
       "      <td>1.43533</td>\n",
       "      <td>0.76096</td>\n",
       "      <td>...</td>\n",
       "      <td>Used in Last Month</td>\n",
       "      <td>Never Used</td>\n",
       "      <td>Used in Last Decade</td>\n",
       "      <td>Never Used</td>\n",
       "      <td>Used in Last Decade</td>\n",
       "      <td>Used in Last Year</td>\n",
       "      <td>Never Used</td>\n",
       "      <td>Used in Last Month</td>\n",
       "      <td>Never Used</td>\n",
       "      <td>Never Used</td>\n",
       "    </tr>\n",
       "    <tr>\n",
       "      <th>2</th>\n",
       "      <td>3</td>\n",
       "      <td>35 - 44</td>\n",
       "      <td>Male</td>\n",
       "      <td>Professional Certificate/ Diploma</td>\n",
       "      <td>UK</td>\n",
       "      <td>White</td>\n",
       "      <td>-0.46725</td>\n",
       "      <td>0.80523</td>\n",
       "      <td>-0.84732</td>\n",
       "      <td>-1.62090</td>\n",
       "      <td>...</td>\n",
       "      <td>Never Used</td>\n",
       "      <td>Never Used</td>\n",
       "      <td>Never Used</td>\n",
       "      <td>Never Used</td>\n",
       "      <td>Never Used</td>\n",
       "      <td>Never Used</td>\n",
       "      <td>Used over a Decade Ago</td>\n",
       "      <td>Never Used</td>\n",
       "      <td>Never Used</td>\n",
       "      <td>Never Used</td>\n",
       "    </tr>\n",
       "    <tr>\n",
       "      <th>3</th>\n",
       "      <td>4</td>\n",
       "      <td>18-24</td>\n",
       "      <td>Female</td>\n",
       "      <td>Masters Degree</td>\n",
       "      <td>UK</td>\n",
       "      <td>White</td>\n",
       "      <td>-0.14882</td>\n",
       "      <td>-0.80615</td>\n",
       "      <td>-0.01928</td>\n",
       "      <td>0.59042</td>\n",
       "      <td>...</td>\n",
       "      <td>Never Used</td>\n",
       "      <td>Never Used</td>\n",
       "      <td>Used in Last Decade</td>\n",
       "      <td>Never Used</td>\n",
       "      <td>Never Used</td>\n",
       "      <td>Never Used</td>\n",
       "      <td>Never Used</td>\n",
       "      <td>Used in Last Decade</td>\n",
       "      <td>Never Used</td>\n",
       "      <td>Never Used</td>\n",
       "    </tr>\n",
       "    <tr>\n",
       "      <th>4</th>\n",
       "      <td>5</td>\n",
       "      <td>35 - 44</td>\n",
       "      <td>Female</td>\n",
       "      <td>Doctorate Degree</td>\n",
       "      <td>UK</td>\n",
       "      <td>White</td>\n",
       "      <td>0.73545</td>\n",
       "      <td>-1.63340</td>\n",
       "      <td>-0.45174</td>\n",
       "      <td>-0.30172</td>\n",
       "      <td>...</td>\n",
       "      <td>Used over a Decade Ago</td>\n",
       "      <td>Never Used</td>\n",
       "      <td>Never Used</td>\n",
       "      <td>Used over a Decade Ago</td>\n",
       "      <td>Never Used</td>\n",
       "      <td>Never Used</td>\n",
       "      <td>Used in Last Decade</td>\n",
       "      <td>Used in Last Decade</td>\n",
       "      <td>Never Used</td>\n",
       "      <td>Never Used</td>\n",
       "    </tr>\n",
       "  </tbody>\n",
       "</table>\n",
       "<p>5 rows × 32 columns</p>\n",
       "</div>"
      ],
      "text/plain": [
       "   ID      Age  Gender                          Education Country  \\\n",
       "0   1  35 - 44  Female  Professional Certificate/ Diploma      UK   \n",
       "1   2  25 - 34    Male                   Doctorate Degree      UK   \n",
       "2   3  35 - 44    Male  Professional Certificate/ Diploma      UK   \n",
       "3   4    18-24  Female                     Masters Degree      UK   \n",
       "4   5  35 - 44  Female                   Doctorate Degree      UK   \n",
       "\n",
       "           Ethnicity   Nscore   Escore   Oscore   Ascore  ...  \\\n",
       "0  Mixed-White/Asian  0.31287 -0.57545 -0.58331 -0.91699  ...   \n",
       "1              White -0.67825  1.93886  1.43533  0.76096  ...   \n",
       "2              White -0.46725  0.80523 -0.84732 -1.62090  ...   \n",
       "3              White -0.14882 -0.80615 -0.01928  0.59042  ...   \n",
       "4              White  0.73545 -1.63340 -0.45174 -0.30172  ...   \n",
       "\n",
       "                  Ecstasy      Heroin             Ketamine  \\\n",
       "0              Never Used  Never Used           Never Used   \n",
       "1      Used in Last Month  Never Used  Used in Last Decade   \n",
       "2              Never Used  Never Used           Never Used   \n",
       "3              Never Used  Never Used  Used in Last Decade   \n",
       "4  Used over a Decade Ago  Never Used           Never Used   \n",
       "\n",
       "                   Legalh                  LSD               Meth  \\\n",
       "0              Never Used           Never Used         Never Used   \n",
       "1              Never Used  Used in Last Decade  Used in Last Year   \n",
       "2              Never Used           Never Used         Never Used   \n",
       "3              Never Used           Never Used         Never Used   \n",
       "4  Used over a Decade Ago           Never Used         Never Used   \n",
       "\n",
       "                Mushrooms             Nicotine       Semer         VSA  \n",
       "0              Never Used  Used in Last Decade  Never Used  Never Used  \n",
       "1              Never Used   Used in Last Month  Never Used  Never Used  \n",
       "2  Used over a Decade Ago           Never Used  Never Used  Never Used  \n",
       "3              Never Used  Used in Last Decade  Never Used  Never Used  \n",
       "4     Used in Last Decade  Used in Last Decade  Never Used  Never Used  \n",
       "\n",
       "[5 rows x 32 columns]"
      ]
     },
     "execution_count": 11,
     "metadata": {},
     "output_type": "execute_result"
    }
   ],
   "source": [
    "data.head()"
   ]
  },
  {
   "cell_type": "code",
   "execution_count": 12,
   "id": "c2b9c3fb",
   "metadata": {},
   "outputs": [
    {
     "name": "stdout",
     "output_type": "stream",
     "text": [
      "['UK' 'Canada' 'USA' 'Other' 'Australia' 'Republic of Ireland'\n",
      " 'New Zealand']\n",
      "7\n",
      "['Professional Certificate/ Diploma' 'Doctorate Degree' 'Masters Degree'\n",
      " 'Left School at 18 years' 'Left School at 16 years' 'University Degree'\n",
      " 'Some College,No Certificate Or Degree' 'Left School Before 16 years'\n",
      " 'Left School at 17 years']\n",
      "9\n",
      "6\n"
     ]
    }
   ],
   "source": [
    "print(data.Country.unique())\n",
    "print(data.Country.nunique())\n",
    "print(data.Education.unique())\n",
    "print(data.Education.nunique())\n",
    "print(data.Age.nunique())"
   ]
  },
  {
   "cell_type": "code",
   "execution_count": 14,
   "id": "acd07de6",
   "metadata": {},
   "outputs": [
    {
     "data": {
      "text/plain": [
       "0      -1.18084\n",
       "1      -0.21575\n",
       "2       0.40148\n",
       "3      -1.18084\n",
       "4      -0.21575\n",
       "         ...   \n",
       "1880    1.92173\n",
       "1881    0.76540\n",
       "1882   -0.52593\n",
       "1883    1.22470\n",
       "1884    1.22470\n",
       "Name: SS, Length: 1885, dtype: float64"
      ]
     },
     "execution_count": 14,
     "metadata": {},
     "output_type": "execute_result"
    }
   ],
   "source": [
    "data[\"SS\"]"
   ]
  }
 ],
 "metadata": {
  "kaggle": {
   "accelerator": "none",
   "dataSources": [
    {
     "datasetId": 4687485,
     "sourceId": 7966947,
     "sourceType": "datasetVersion"
    }
   ],
   "dockerImageVersionId": 30673,
   "isGpuEnabled": false,
   "isInternetEnabled": true,
   "language": "python",
   "sourceType": "notebook"
  },
  "kernelspec": {
   "display_name": "Python 3",
   "language": "python",
   "name": "python3"
  },
  "language_info": {
   "codemirror_mode": {
    "name": "ipython",
    "version": 3
   },
   "file_extension": ".py",
   "mimetype": "text/x-python",
   "name": "python",
   "nbconvert_exporter": "python",
   "pygments_lexer": "ipython3",
   "version": "3.10.13"
  },
  "papermill": {
   "default_parameters": {},
   "duration": 4.965264,
   "end_time": "2024-04-03T08:45:26.052636",
   "environment_variables": {},
   "exception": null,
   "input_path": "__notebook__.ipynb",
   "output_path": "__notebook__.ipynb",
   "parameters": {},
   "start_time": "2024-04-03T08:45:21.087372",
   "version": "2.5.0"
  }
 },
 "nbformat": 4,
 "nbformat_minor": 5
}
