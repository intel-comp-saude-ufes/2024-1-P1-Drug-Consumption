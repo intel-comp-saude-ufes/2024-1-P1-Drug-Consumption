{
 "cells": [
  {
   "cell_type": "markdown",
   "metadata": {},
   "source": [
    "# Drug Consumption: Pré-processamento de Dados"
   ]
  },
  {
   "cell_type": "code",
   "execution_count": 1,
   "metadata": {},
   "outputs": [],
   "source": [
    "import pandas as pd\n",
    "import numpy as np\n",
    "import matplotlib.pyplot as plt"
   ]
  },
  {
   "cell_type": "code",
   "execution_count": 2,
   "metadata": {},
   "outputs": [],
   "source": [
    "data = pd.read_csv('data/drug_consumption.csv', index_col=\"ID\")"
   ]
  },
  {
   "cell_type": "markdown",
   "metadata": {},
   "source": [
    "# Pré-processamento dos dados\n",
    "Os dados do dataset estão em valores pouco legíveis, assim, alguns processamentos foram executados para possibilitar o uso em classificadores."
   ]
  },
  {
   "cell_type": "markdown",
   "metadata": {},
   "source": [
    "## Idade - \"Age\"\n",
    "Engloba um range de idades, entretanto, é remapeado (posteriormente) para valores discretos, mantendo a distância entre os itens."
   ]
  },
  {
   "cell_type": "code",
   "execution_count": 3,
   "metadata": {},
   "outputs": [],
   "source": [
    "age_col = {\n",
    "    -0.95197: \"18 - 24\",\n",
    "    -0.07854: \"25 - 34\",\n",
    "    0.49788: \"35 - 44\",\n",
    "    1.09449: \"45 - 54\",\n",
    "    1.82213: \"55 - 64\",\n",
    "    2.59171: \"65+\",\n",
    "}\n",
    "\n",
    "# Se for necessário, estão guardados valores nominais no dataset\n",
    "data[\"Age_\"] = data[\"Age\"].replace(age_col)"
   ]
  },
  {
   "cell_type": "markdown",
   "metadata": {},
   "source": [
    "## Gênero - \"Gender\"\n",
    "Dividido entre \"Female\" e \"Male\". Aqui, é transformada de forma que a coluna indica se o indivíduo é homem ou não.\n",
    "Poderia ser feito com OneHotEncoder, mas escolhemos poupar o uso de mais colunas."
   ]
  },
  {
   "cell_type": "code",
   "execution_count": 4,
   "metadata": {},
   "outputs": [],
   "source": [
    "# gender_col = {0.48246: \"Female\", -0.48246: \"Male\"}\n",
    "gender_col = {0.48246: 0, -0.48246: 1}\n",
    "data[\"Gender\"] = data[\"Gender\"].replace(gender_col)"
   ]
  },
  {
   "cell_type": "markdown",
   "metadata": {},
   "source": [
    "## Escolaridade - \"Education\"\n",
    "Indica o nível de escolaridade do indivíduo. Testamos colocar ordenado com OrdinalEncoder, da forma que a coluna é apresentada abaixo."
   ]
  },
  {
   "cell_type": "code",
   "execution_count": 5,
   "metadata": {},
   "outputs": [],
   "source": [
    "education_col = {\n",
    "    -2.43591: \"Left School Before 16 years\",\n",
    "    -1.73790: \"Left School at 16 years\",\n",
    "    -1.43719: \"Left School at 17 years\",\n",
    "    -1.22751: \"Left School at 18 years\",\n",
    "    -0.61113: \"Some College, No Certificate Or Degree\",\n",
    "    -0.05921: \"Professional Certificate/Diploma\",\n",
    "    0.45468: \"University Degree\",\n",
    "    1.16365: \"Masters Degree\",\n",
    "    1.98437: \"Doctorate Degree\",\n",
    "}\n",
    "\n",
    "data[\"Education_\"] = data[\"Education\"].replace(education_col)"
   ]
  },
  {
   "cell_type": "markdown",
   "metadata": {},
   "source": [
    "## País - \"Country\"\n",
    "Indica o país de origem do indivíduo. Será mais relevante na análise de distribuição dos dados, mas pode causar algum bias desnecessário na classificação."
   ]
  },
  {
   "cell_type": "code",
   "execution_count": 6,
   "metadata": {},
   "outputs": [],
   "source": [
    "country_col = {\n",
    "    -0.09765: \"Australia\",\n",
    "    0.24923: \"Canada\",\n",
    "    -0.46841: \"New Zealand\",\n",
    "    -0.28519: \"Other\",\n",
    "    0.21128: \"Republic of Ireland\",\n",
    "    0.96082: \"UK\",\n",
    "    -0.57009: \"USA\",\n",
    "}\n",
    "data[\"Country\"] = data[\"Country\"].replace(country_col)"
   ]
  },
  {
   "cell_type": "markdown",
   "metadata": {},
   "source": [
    "## Etnia - \"Ethnicity\"\n",
    "Indica a etnia do indivíduo. Pode ser mais relevante na análise dos dados, mas parece irrelevante e enviezado utilizá-la no classificador."
   ]
  },
  {
   "cell_type": "code",
   "execution_count": 7,
   "metadata": {},
   "outputs": [],
   "source": [
    "ethnicity_col = {\n",
    "    -0.50212: \"Asian\",\n",
    "    -1.10702: \"Black\",\n",
    "    1.90725: \"Mixed-Black/Asian\",\n",
    "    0.12600: \"Mixed-White/Asian\",\n",
    "    -0.22166: \"Mixed-White/Black\",\n",
    "    0.11440: \"Other\",\n",
    "    -0.31685: \"White\",\n",
    "}\n",
    "data[\"Ethnicity\"] = data[\"Ethnicity\"].replace(ethnicity_col)"
   ]
  },
  {
   "cell_type": "markdown",
   "metadata": {},
   "source": [
    "## Colunas das substâncias\n",
    "Existem 18 substâncias presentes no dataset. Os valores apresentados nas colunas indicam qual foi a última vez que a substância foi utilizada. Nesse caso, remapeamos cada valor para um domínio discreto em que a distância de tempo é mantida.\n",
    "\n",
    "É um range de [0, 6] que representa, respectivamente:\n",
    "- (0) \"nunca\";\n",
    "- (1) \"há mais de uma década\";\n",
    "- (2) \"na última década\";\n",
    "- (3) \"no último ano\";\n",
    "- (4) \"no último mês\";\n",
    "- (5) \"na última semana\" e\n",
    "- (6) \"no dia anterior\"."
   ]
  },
  {
   "cell_type": "code",
   "execution_count": 8,
   "metadata": {},
   "outputs": [],
   "source": [
    "drugs = [\n",
    "    \"Alcohol\",\n",
    "    \"Amphet\",\n",
    "    \"Amyl\",\n",
    "    \"Benzos\",\n",
    "    \"Caff\",\n",
    "    \"Cannabis\",\n",
    "    \"Choc\",\n",
    "    \"Coke\",\n",
    "    \"Crack\",\n",
    "    \"Ecstasy\",\n",
    "    \"Heroin\",\n",
    "    \"Ketamine\",\n",
    "    \"Legalh\",\n",
    "    \"LSD\",\n",
    "    \"Meth\",\n",
    "    \"Mushrooms\",\n",
    "    \"Nicotine\",\n",
    "    \"Semer\",\n",
    "    \"VSA\",\n",
    "]\n",
    "\n",
    "order_ = {\n",
    "    \"CL0\": \"Never Used\",\n",
    "    \"CL1\": \"Used over a Decade Ago\",\n",
    "    \"CL2\": \"Used in Last Decade\",\n",
    "    \"CL3\": \"Used in Last Year\",\n",
    "    \"CL4\": \"Used in Last Month\",\n",
    "    \"CL5\": \"Used in Last Week\",\n",
    "    \"CL6\": \"Used in Last Day\",\n",
    "}\n",
    "\n",
    "# Deixamos os labels originais no dataset em colunas alternativas com underline no final (caso for necessário saber o label nominal para visualizações)\n",
    "data[[x + \"_\" for x in drugs]] = data[drugs].applymap(lambda x: order_[x])"
   ]
  },
  {
   "cell_type": "markdown",
   "metadata": {},
   "source": [
    "## Medidas de Personalidade\n",
    "O dataset ainda apresenta algumas métricas chamadas de \"personality measurements\". São elas:\n",
    "- NEO-FFI-R (neuroticism, extraversion, openness to experience, agreeableness, and conscientiousness)\n",
    "- BIS-11 (impulsivity)\n",
    "- ImpSS (sensation seeking)"
   ]
  },
  {
   "cell_type": "code",
   "execution_count": 9,
   "metadata": {},
   "outputs": [],
   "source": [
    "data.rename(\n",
    "    columns={\n",
    "        \"Nscore\": \"Neuroticism\",\n",
    "        \"Escore\": \"Extraversion\",\n",
    "        \"Oscore\": \"Openness\",\n",
    "        \"Ascore\": \"Agreeableness\",\n",
    "        \"Cscore\": \"Conscientiousness\",\n",
    "        \"Impulsive\": \"Impulsiveness\",\n",
    "        \"SS\": \"Sensationness\",\n",
    "    },\n",
    "    inplace=True,\n",
    ")"
   ]
  },
  {
   "cell_type": "markdown",
   "metadata": {},
   "source": [
    "## Aplicação de OrdinalEncoder e OneHotEncoder\n",
    "Aplicamos OrdinalEncoder em colunas como \"Age\" e as colunas de substâncias, que apresentam valores com ordem explícita e OneHotEncoder para características categóricas sem senso perceptível de distância."
   ]
  },
  {
   "cell_type": "code",
   "execution_count": 10,
   "metadata": {},
   "outputs": [
    {
     "name": "stderr",
     "output_type": "stream",
     "text": [
      "/home/ngmonteiro/miniconda3/envs/py/lib/python3.10/site-packages/scipy/__init__.py:146: UserWarning: A NumPy version >=1.17.3 and <1.25.0 is required for this version of SciPy (detected version 1.26.4\n",
      "  warnings.warn(f\"A NumPy version >={np_minversion} and <{np_maxversion}\"\n"
     ]
    }
   ],
   "source": [
    "from sklearn.preprocessing import OneHotEncoder, OrdinalEncoder\n",
    "from sklearn.compose import ColumnTransformer\n",
    "\n",
    "\n",
    "ordCols = [\"Age\", \"Education\"] + drugs\n",
    "# catCols = [\"Ethnicity\"]\n",
    "\n",
    "preprocessor = ColumnTransformer(\n",
    "    [\n",
    "        (\"ordinal\", OrdinalEncoder(dtype=int), ordCols),\n",
    "        # (\"categorical\", OneHotEncoder(sparse_output=False), catCols),\n",
    "    ],\n",
    "    verbose_feature_names_out=False,\n",
    "    remainder=\"passthrough\",\n",
    ")\n",
    "preprocessor.set_output(transform=\"pandas\")\n",
    "\n",
    "df_out : pd.DataFrame = preprocessor.fit_transform(data)"
   ]
  },
  {
   "cell_type": "code",
   "execution_count": 11,
   "metadata": {},
   "outputs": [],
   "source": [
    "df_out.to_csv(\"data/drug_consumption_preprocessed.csv\")"
   ]
  }
 ],
 "metadata": {
  "kernelspec": {
   "display_name": "Python 3",
   "language": "python",
   "name": "python3"
  },
  "language_info": {
   "codemirror_mode": {
    "name": "ipython",
    "version": 3
   },
   "file_extension": ".py",
   "mimetype": "text/x-python",
   "name": "python",
   "nbconvert_exporter": "python",
   "pygments_lexer": "ipython3",
   "version": "3.10.13"
  }
 },
 "nbformat": 4,
 "nbformat_minor": 2
}
